{
 "cells": [
  {
   "cell_type": "code",
   "execution_count": 8,
   "metadata": {},
   "outputs": [
    {
     "name": "stdout",
     "output_type": "stream",
     "text": [
      "64.242.88.10 - - [07/Mar/2004:16:05:49 -0800] \"GET /twiki/bin/edit/Main/Double_bounce_sender?topicparent=Main.ConfigurationVariables HTTP/1.1\" 401 12846\n"
     ]
    }
   ],
   "source": [
    "from __future__ import print_function\n",
    "from pyspark import SparkConf, SparkContext ,SQLContext,Row,HiveContext\n",
    "import sys\n",
    "import re\n",
    "from pyspark.sql import Row\n",
    "\n",
    "conf = SparkConf().setAppName(\"Apache Log Analyzer\")\n",
    "#sc = SparkContext(conf=conf)\n",
    "\n",
    "s='64.242.88.10 - - [07/Mar/2004:16:05:49 -0800] \"GET /twiki/bin/edit/Main/Double_bounce_sender?topicparent=Main.ConfigurationVariables HTTP/1.1\" 401 12846'\n",
    "print (s)"
   ]
  },
  {
   "cell_type": "code",
   "execution_count": 12,
   "metadata": {},
   "outputs": [
    {
     "name": "stdout",
     "output_type": "stream",
     "text": [
      "<Row(64.242.88.10, -, -, 07/Mar/2004:16:05:49 -0800, GET, /twiki/bin/edit/Main/Double_bounce_sender?topicparent=Main.ConfigurationVariables, HTTP/1.1, 401, 12846)>\n"
     ]
    }
   ],
   "source": [
    "'''\n",
    "Creating a function to read each element using Regex. This module will be passed later on in the notebook.\n",
    "'''\n",
    "def log_line(line):\n",
    "    patrn = '^(\\S+) (\\S+) (\\S+) \\[([\\w:/]+\\s[+\\-]\\d{4})\\] \"(\\S+) (\\S+) (\\S+)\" (\\d{3}) (\\d+)'\n",
    "    mtch = re.search(patrn,line)\n",
    "    if mtch is None:\n",
    "        pass\n",
    "    else :\n",
    "        ip = mtch.group(1)\n",
    "        client = mtch.group(2)\n",
    "        user = mtch.group(3)\n",
    "        date_time = mtch.group(4)\n",
    "        mode = mtch.group(5)\n",
    "        target = mtch .group(6)\n",
    "        protocol = mtch.group(7)\n",
    "        res_code = mtch.group(8)\n",
    "        size = mtch.group(9)\n",
    "        return Row(ip,client,user,date_time,mode,target,protocol,res_code,size)\n",
    "print (log_line(s))\n",
    "    "
   ]
  },
  {
   "cell_type": "code",
   "execution_count": 13,
   "metadata": {},
   "outputs": [
    {
     "data": {
      "text/plain": [
       "[u'64.242.88.10 - - [07/Mar/2004:16:05:49 -0800] \"GET /twiki/bin/edit/Main/Double_bounce_sender?topicparent=Main.ConfigurationVariables HTTP/1.1\" 401 12846',\n",
       " u'64.242.88.10 - - [07/Mar/2004:16:06:51 -0800] \"GET /twiki/bin/rdiff/TWiki/NewUserTemplate?rev1=1.3&rev2=1.2 HTTP/1.1\" 200 4523',\n",
       " u'64.242.88.10 - - [07/Mar/2004:16:10:02 -0800] \"GET /mailman/listinfo/hsdivision HTTP/1.1\" 200 6291',\n",
       " u'64.242.88.10 - - [07/Mar/2004:16:11:58 -0800] \"GET /twiki/bin/view/TWiki/WikiSyntax HTTP/1.1\" 200 7352',\n",
       " u'64.242.88.10 - - [07/Mar/2004:16:20:55 -0800] \"GET /twiki/bin/view/Main/DCCAndPostFix HTTP/1.1\" 200 5253']"
      ]
     },
     "execution_count": 13,
     "metadata": {},
     "output_type": "execute_result"
    }
   ],
   "source": [
    "# Reading source file form HDFS and creating RDD\n",
    "\n",
    "logFileRdd = sc.textFile(\"/user/data/apache_log.txt\")\n",
    "logFileRdd.take(5)"
   ]
  },
  {
   "cell_type": "code",
   "execution_count": 30,
   "metadata": {},
   "outputs": [
    {
     "data": {
      "text/plain": [
       "[<Row(64.242.88.10, -, -, 07/Mar/2004:16:05:49 -0800, GET, /twiki/bin/edit/Main/Double_bounce_sender?topicparent=Main.ConfigurationVariables, HTTP/1.1, 401, 12846)>,\n",
       " <Row(64.242.88.10, -, -, 07/Mar/2004:16:06:51 -0800, GET, /twiki/bin/rdiff/TWiki/NewUserTemplate?rev1=1.3&rev2=1.2, HTTP/1.1, 200, 4523)>,\n",
       " <Row(64.242.88.10, -, -, 07/Mar/2004:16:10:02 -0800, GET, /mailman/listinfo/hsdivision, HTTP/1.1, 200, 6291)>,\n",
       " <Row(64.242.88.10, -, -, 07/Mar/2004:16:11:58 -0800, GET, /twiki/bin/view/TWiki/WikiSyntax, HTTP/1.1, 200, 7352)>,\n",
       " <Row(64.242.88.10, -, -, 07/Mar/2004:16:20:55 -0800, GET, /twiki/bin/view/Main/DCCAndPostFix, HTTP/1.1, 200, 5253)>]"
      ]
     },
     "execution_count": 30,
     "metadata": {},
     "output_type": "execute_result"
    }
   ],
   "source": [
    "parseLogFileRdd = logFileRdd.map(log_line).cache()\n",
    "parseLogFileRdd.take(5)"
   ]
  },
  {
   "cell_type": "code",
   "execution_count": 33,
   "metadata": {},
   "outputs": [
    {
     "name": "stdout",
     "output_type": "stream",
     "text": [
      "Response Code Counts: [(200, 1272), (404, 5), (302, 6), (401, 123)]\n"
     ]
    }
   ],
   "source": [
    "# Calculate rescode count\n",
    "#parseLogFileRdd.map(lambda x : (int(x[7]),1)).take(10)\n",
    "resCodeCnt = (parseLogFileRdd.map(lambda x : (int(x[7]),1)).reduceByKey(lambda a,b:a+b))\n",
    "resCodeCnt.take(10)\n",
    "#parseLogFileRdd\n",
    "print (\"Response Code Counts: %s\" % (resCodeCnt.take(10)))"
   ]
  },
  {
   "cell_type": "code",
   "execution_count": 44,
   "metadata": {},
   "outputs": [
    {
     "name": "stdout",
     "output_type": "stream",
     "text": [
      "Avg Content size :  7775  Min Content size : 0  Max Content size :  138789\n"
     ]
    }
   ],
   "source": [
    "# Calculate  content size .\n",
    "contentSize = parseLogFileRdd.map(lambda x: int(x[8]))\n",
    "print (\"Avg Content size :  %i  Min Content size : %i  Max Content size :  %i\" % (contentSize.reduce(lambda a,b : a+b)/contentSize.count(),\n",
    "       contentSize.min(),contentSize.max()))\n",
    "#contentSize.take(10)"
   ]
  },
  {
   "cell_type": "code",
   "execution_count": 56,
   "metadata": {},
   "outputs": [
    {
     "name": "stdout",
     "output_type": "stream",
     "text": [
      "IpAddresses that have accessed more then 20 times: ['10.0.0.153', 'ip68-228-43-49.tc.ph.cox.net', 'h24-70-69-74.ca.shawcable.net', 'h24-71-236-129.ca.shawcable.net', 'cr020r01-3.sac.overture.com', 'ts04-ip92.hevanet.com', 'market-mail.panduit.com', '64.242.88.10']\n"
     ]
    }
   ],
   "source": [
    "# Any IPAddress that has accessed the server more than 10 times.\n",
    "ipCnt = parseLogFileRdd.map(lambda x : str(x[0])).map(lambda x : (x,1)).reduceByKey(lambda a,b: a+b)\\\n",
    "        .filter(lambda x : x[1]>20).map(lambda x : x[0]).take(20)\n",
    "#ipCnt.take(10)\n",
    "print (\"IpAddresses that have accessed more then 20 times: %s\" % (ipCnt))"
   ]
  },
  {
   "cell_type": "code",
   "execution_count": 62,
   "metadata": {},
   "outputs": [
    {
     "name": "stdout",
     "output_type": "stream",
     "text": [
      "Converting into  python dictionary\n",
      "{'10.0.0.153': 188, 'ts04-ip92.hevanet.com': 28, 'cr020r01-3.sac.overture.com': 44, 'h24-70-69-74.ca.shawcable.net': 32, 'market-mail.panduit.com': 29, 'ip68-228-43-49.tc.ph.cox.net': 22, '64.242.88.10': 452, 'h24-71-236-129.ca.shawcable.net': 36}\n",
      "Max time an IP Hit the server \n",
      "[('64.242.88.10', 452)]\n"
     ]
    }
   ],
   "source": [
    "ipCnt = parseLogFileRdd.map(lambda x : str(x[0])).map(lambda x : (x,1)).reduceByKey(lambda a,b: a+b)\\\n",
    "        .filter(lambda x : x[1]>20).take(20)\n",
    "ipCntDict = {}\n",
    "print (\"Converting into  python dictionary\")\n",
    "for x in ipCnt:\n",
    "    ipCntDict[x[0]]=x[1]\n",
    "print (ipCntDict)\n",
    "print(\"Max time an IP Hit the server \")\n",
    "print( [(x,y) for x,y in ipCntDict.items() if y == max(ipCntDict.values())])\n",
    "    \n"
   ]
  },
  {
   "cell_type": "code",
   "execution_count": null,
   "metadata": {
    "collapsed": true
   },
   "outputs": [],
   "source": []
  }
 ],
 "metadata": {
  "kernelspec": {
   "display_name": "Python 2",
   "language": "python",
   "name": "python2"
  },
  "language_info": {
   "codemirror_mode": {
    "name": "ipython",
    "version": 2
   },
   "file_extension": ".py",
   "mimetype": "text/x-python",
   "name": "python",
   "nbconvert_exporter": "python",
   "pygments_lexer": "ipython2",
   "version": "2.7.13"
  }
 },
 "nbformat": 4,
 "nbformat_minor": 2
}

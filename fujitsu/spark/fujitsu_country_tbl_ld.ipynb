{
 "cells": [
  {
   "cell_type": "code",
   "execution_count": 33,
   "metadata": {},
   "outputs": [
    {
     "name": "stdout",
     "output_type": "stream",
     "text": [
      "All good lets Go\n"
     ]
    }
   ],
   "source": [
    "from pyspark import SparkContext,HiveContext\n",
    "from pyspark.sql.types import *\n",
    "from pyspark.sql.functions import *\n",
    "from pyspark.sql.window import Window\n",
    "from datetime import datetime\n",
    "\n",
    "print (\"All good lets Go\")"
   ]
  },
  {
   "cell_type": "code",
   "execution_count": 1,
   "metadata": {},
   "outputs": [
    {
     "data": {
      "text/plain": [
       "[[u'1', u'Belgium'],\n",
       " [u'1729', u'England'],\n",
       " [u'4769', u'France'],\n",
       " [u'7809', u'Germany'],\n",
       " [u'10257', u'Italy']]"
      ]
     },
     "execution_count": 1,
     "metadata": {},
     "output_type": "execute_result"
    }
   ],
   "source": [
    "#sc = SparkContext(appName=\"Aml Markets DQ \")\n",
    "countryRdd = sc.textFile(\"/user/data/fujitsu/Country.txt\").map(lambda x: x.split(\"\\t\")).filter(lambda x : x[0] !='id')\n",
    "countryRdd.take(5)\n",
    "#countrySplitRdd = countryRdd.map(lambda x : x.split(\"\\t\")).filter(lambda x : x[0] !='id')\n",
    "#countrySplitRdd.take(5)\n"
   ]
  },
  {
   "cell_type": "code",
   "execution_count": 2,
   "metadata": {
    "collapsed": true
   },
   "outputs": [],
   "source": [
    "def buildCountrySchema():\n",
    "    print(\"Schema Creation for Country Is completed\")\n",
    "    schema = StructType(\n",
    "        [\n",
    "            StructField(\"id\" ,StringType(),True),\n",
    "            StructField(\"name\",StringType(),True)\n",
    "        ]\n",
    "    )\n",
    "    return schema"
   ]
  },
  {
   "cell_type": "code",
   "execution_count": 58,
   "metadata": {},
   "outputs": [
    {
     "name": "stdout",
     "output_type": "stream",
     "text": [
      "Schema Creation for Country Is completed\n",
      "+-----+-----------+\n",
      "|   id|       name|\n",
      "+-----+-----------+\n",
      "|    1|    Belgium|\n",
      "| 1729|    England|\n",
      "| 4769|     France|\n",
      "| 7809|    Germany|\n",
      "|10257|      Italy|\n",
      "|13274|Netherlands|\n",
      "|15722|     Poland|\n",
      "|17642|   Portugal|\n",
      "|19694|   Scotland|\n",
      "|21518|      Spain|\n",
      "|24558|Switzerland|\n",
      "+-----+-----------+\n",
      "\n"
     ]
    }
   ],
   "source": [
    "df =sqlContext.createDataFrame(countrySplitRdd,schema=buildCountrySchema())\n",
    "#hist_df = sqlContext.createDataFrame(histrawInputSplit, schema=build_schema())\n",
    "df.show()"
   ]
  },
  {
   "cell_type": "code",
   "execution_count": 60,
   "metadata": {},
   "outputs": [
    {
     "data": {
      "text/plain": [
       "DataFrame[result: string]"
      ]
     },
     "execution_count": 60,
     "metadata": {},
     "output_type": "execute_result"
    }
   ],
   "source": [
    "sqlContext.sql(''' create database Fujitsu location '/user/data/fujitsu'  ''')\n"
   ]
  },
  {
   "cell_type": "code",
   "execution_count": 66,
   "metadata": {},
   "outputs": [
    {
     "name": "stdout",
     "output_type": "stream",
     "text": [
      "+---+----+\n",
      "| id|name|\n",
      "+---+----+\n",
      "+---+----+\n",
      "\n"
     ]
    }
   ],
   "source": [
    "sqlContext.sql(''' use Fujitsu ''')\n",
    "sqlContext.sql(''' create table IF NOT EXISTS country ( ID int, name varchar(30)) stored as parquet ''')\n",
    "sqlContext.sql( ''' select * from Fujitsu.country''').show()"
   ]
  },
  {
   "cell_type": "code",
   "execution_count": 67,
   "metadata": {
    "collapsed": true
   },
   "outputs": [],
   "source": [
    "df.write.insertInto(\"Fujitsu.country\")"
   ]
  },
  {
   "cell_type": "code",
   "execution_count": 68,
   "metadata": {},
   "outputs": [
    {
     "name": "stdout",
     "output_type": "stream",
     "text": [
      "+-----+-----------+\n",
      "|   id|       name|\n",
      "+-----+-----------+\n",
      "|    1|    Belgium|\n",
      "| 1729|    England|\n",
      "| 4769|     France|\n",
      "| 7809|    Germany|\n",
      "|10257|      Italy|\n",
      "|13274|Netherlands|\n",
      "|15722|     Poland|\n",
      "|17642|   Portugal|\n",
      "|19694|   Scotland|\n",
      "|21518|      Spain|\n",
      "|24558|Switzerland|\n",
      "+-----+-----------+\n",
      "\n"
     ]
    }
   ],
   "source": [
    "sqlContext.sql( ''' select * from Fujitsu.country''').show()"
   ]
  },
  {
   "cell_type": "code",
   "execution_count": null,
   "metadata": {
    "collapsed": true
   },
   "outputs": [],
   "source": []
  }
 ],
 "metadata": {
  "kernelspec": {
   "display_name": "Python 2",
   "language": "python",
   "name": "python2"
  },
  "language_info": {
   "codemirror_mode": {
    "name": "ipython",
    "version": 2
   },
   "file_extension": ".py",
   "mimetype": "text/x-python",
   "name": "python",
   "nbconvert_exporter": "python",
   "pygments_lexer": "ipython2",
   "version": "2.7.13"
  }
 },
 "nbformat": 4,
 "nbformat_minor": 2
}

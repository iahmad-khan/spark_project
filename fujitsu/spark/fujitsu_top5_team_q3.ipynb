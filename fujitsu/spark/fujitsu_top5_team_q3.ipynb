{
 "cells": [
  {
   "cell_type": "code",
   "execution_count": 1,
   "metadata": {},
   "outputs": [
    {
     "name": "stdout",
     "output_type": "stream",
     "text": [
      "Lets do the 3rd question \n"
     ]
    }
   ],
   "source": [
    "from pyspark import SparkContext,HiveContext\n",
    "from pyspark.sql.functions import *\n",
    "from pyspark.sql.window import Window\n",
    "\n",
    "print(\"Lets do the 3rd question \")"
   ]
  },
  {
   "cell_type": "code",
   "execution_count": 3,
   "metadata": {},
   "outputs": [],
   "source": [
    "'''\n",
    "Q3: Find top 5 teams based on the number of matches they won\n",
    "'''\n",
    "teamDf = sqlContext.sql( ''' select * from fujitsu.team''').cache()\n",
    "matchDf = sqlContext.sql( ''' select winner_team_api_id,win_counter,row_number() over (order by win_counter desc) as winning_rank\n",
    "from (select winner_team_api_id, sum(winning_counter) as win_counter from (select case when (home_team_goal > away_team_goal) then home_team_api_id\n",
    "when (home_team_goal = away_team_goal) then 0 else away_team_api_id\n",
    "end as winner_team_api_id , 1 as winning_counter from  fujitsu.match_new) innerQuery1 where winner_team_api_id !=0 group by winner_team_api_id  ) innerQuery2 ''' ).cache()"
   ]
  },
  {
   "cell_type": "code",
   "execution_count": 6,
   "metadata": {},
   "outputs": [
    {
     "name": "stdout",
     "output_type": "stream",
     "text": [
      "+-----------+------------+-----------+----------------+-----------------+---------------+\n",
      "|win_counter|winning_rank|team_api_id|team_fifa_api_id|   team_long_name|team_short_name|\n",
      "+-----------+------------+-----------+----------------+-----------------+---------------+\n",
      "|        234|           1|       8634|             241|     FC Barcelona|            BAR|\n",
      "|        227|           2|       8633|             243|   Real Madrid CF|            REA|\n",
      "|        218|           3|       9925|              78|           Celtic|            CEL|\n",
      "|        193|           4|       9823|              21| FC Bayern Munich|            BMU|\n",
      "|        192|           5|      10260|              11|Manchester United|            MUN|\n",
      "+-----------+------------+-----------+----------------+-----------------+---------------+\n",
      "\n"
     ]
    }
   ],
   "source": [
    "matchDfTop5Team = matchDf.where( col('winning_rank') <6).join(teamDf,col('winner_team_api_id') == col('team_api_id'))\n",
    "matchDfTop5Team.sort('winning_rank').drop('id').drop('winner_team_api_id').show()"
   ]
  },
  {
   "cell_type": "code",
   "execution_count": 13,
   "metadata": {},
   "outputs": [],
   "source": [
    "'''\n",
    "Q4: Analyze if particular country has “Home Advantage” (wins more often) over others\n",
    "'''\n",
    "matchnewDf = sqlContext.sql( '''select win_home_team_api_id,win_away_team_api_id, winning_home_cnt,winning_away_cnt\n",
    "from (select win_home_team_api_id,count(win_home_team_api_id) as winning_home_cnt from (\n",
    "select case when (home_team_goal > away_team_goal) then home_team_api_id else 0 end as \n",
    "win_home_team_api_id from fujitsu.match_new ) innerQuery where win_home_team_api_id !=0 group by win_home_team_api_id) inerQuer2\n",
    "inner join \n",
    "(select win_away_team_api_id,count(win_away_team_api_id) as winning_away_cnt from (\n",
    "select case when (home_team_goal < away_team_goal) then away_team_api_id else 0 end as \n",
    "win_away_team_api_id from fujitsu.match_new ) innerQuery where win_away_team_api_id !=0 group by win_away_team_api_id ) \n",
    "innerQuery3 on win_home_team_api_id = win_away_team_api_id ''').cache()"
   ]
  },
  {
   "cell_type": "code",
   "execution_count": 15,
   "metadata": {},
   "outputs": [],
   "source": [
    "homeWinCnt = matchnewDf.where (col('winning_home_cnt') > col('winning_away_cnt')).sort('winning_home_cnt')"
   ]
  },
  {
   "cell_type": "code",
   "execution_count": 16,
   "metadata": {},
   "outputs": [
    {
     "name": "stdout",
     "output_type": "stream",
     "text": [
      "+--------------------+--------------------+----------------+----------------+\n",
      "|win_home_team_api_id|win_away_team_api_id|winning_home_cnt|winning_away_cnt|\n",
      "+--------------------+--------------------+----------------+----------------+\n",
      "|              108893|              108893|               2|               1|\n",
      "|                6631|                6631|               3|               1|\n",
      "|                6351|                6351|               3|               2|\n",
      "|                7992|                7992|               3|               2|\n",
      "|                4064|                4064|               3|               2|\n",
      "|                6547|                6547|               3|               2|\n",
      "|                9746|                9746|               4|               3|\n",
      "|                9878|                9878|               4|               2|\n",
      "|                6269|                6269|               4|               2|\n",
      "|                9798|                9798|               4|               2|\n",
      "|                4170|                4170|               4|               3|\n",
      "|                9765|                9765|               4|               2|\n",
      "|                8460|                8460|               4|               3|\n",
      "|                8194|                8194|               5|               2|\n",
      "|                8295|                8295|               5|               3|\n",
      "|                6391|                6391|               5|               3|\n",
      "|                8344|                8344|               5|               2|\n",
      "|              177361|              177361|               5|               3|\n",
      "|                7947|                7947|               5|               4|\n",
      "|                8549|                8549|               5|               2|\n",
      "+--------------------+--------------------+----------------+----------------+\n",
      "only showing top 20 rows\n",
      "\n"
     ]
    }
   ],
   "source": [
    "homeWinCnt.show()"
   ]
  },
  {
   "cell_type": "code",
   "execution_count": null,
   "metadata": {
    "collapsed": true
   },
   "outputs": [],
   "source": []
  }
 ],
 "metadata": {
  "kernelspec": {
   "display_name": "Python 2",
   "language": "python",
   "name": "python2"
  },
  "language_info": {
   "codemirror_mode": {
    "name": "ipython",
    "version": 2
   },
   "file_extension": ".py",
   "mimetype": "text/x-python",
   "name": "python",
   "nbconvert_exporter": "python",
   "pygments_lexer": "ipython2",
   "version": "2.7.13"
  }
 },
 "nbformat": 4,
 "nbformat_minor": 2
}

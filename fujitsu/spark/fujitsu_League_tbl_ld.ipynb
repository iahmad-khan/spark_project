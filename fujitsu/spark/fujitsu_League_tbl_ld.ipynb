{
 "cells": [
  {
   "cell_type": "code",
   "execution_count": 1,
   "metadata": {},
   "outputs": [
    {
     "name": "stdout",
     "output_type": "stream",
     "text": [
      "lets start for \n"
     ]
    }
   ],
   "source": [
    "from pyspark import SparkContext,HiveContext\n",
    "from pyspark.sql.types import *\n",
    "from pyspark.sql.functions import *\n",
    "from datetime import datetime\n",
    "\n",
    "print (\"lets start for \")"
   ]
  },
  {
   "cell_type": "code",
   "execution_count": 24,
   "metadata": {},
   "outputs": [
    {
     "data": {
      "text/plain": [
       "[[u'1', u'1', u'Belgium Jupiler League'],\n",
       " [u'1729', u'1729', u'England Premier League'],\n",
       " [u'4769', u'4769', u'France Ligue 1'],\n",
       " [u'7809', u'7809', u'Germany 1. Bundesliga'],\n",
       " [u'10257', u'10257', u'Italy Serie A']]"
      ]
     },
     "execution_count": 24,
     "metadata": {},
     "output_type": "execute_result"
    }
   ],
   "source": [
    "leagueRdd = sc.textFile(\"/user/data/fujitsu/League.txt\").map(lambda x : x.split(\"\\t\")).filter(lambda x : str(x[0]) !='id')\n",
    "leagueRdd.take(5)"
   ]
  },
  {
   "cell_type": "code",
   "execution_count": 9,
   "metadata": {},
   "outputs": [],
   "source": [
    "def buildSchemaLeague():\n",
    "    print (\"Schema Createion Started\")\n",
    "    schema = StructType( \n",
    "        [\n",
    "            StructField(\"id\", StringType(),True),\n",
    "            StructField(\"country_id\", StringType(),True),\n",
    "            StructField(\"name\", StringType(),True)\n",
    "        \n",
    "        ]\n",
    "    )\n",
    "    print (\"Schema Createion Completed\")\n",
    "    return schema\n"
   ]
  },
  {
   "cell_type": "code",
   "execution_count": 25,
   "metadata": {},
   "outputs": [
    {
     "name": "stdout",
     "output_type": "stream",
     "text": [
      "Schema Createion Started\n",
      "Schema Createion Completed\n",
      "+-----+----------+--------------------+\n",
      "|   id|country_id|                name|\n",
      "+-----+----------+--------------------+\n",
      "|    1|         1|Belgium Jupiler L...|\n",
      "| 1729|      1729|England Premier L...|\n",
      "| 4769|      4769|      France Ligue 1|\n",
      "| 7809|      7809|Germany 1. Bundes...|\n",
      "|10257|     10257|       Italy Serie A|\n",
      "|13274|     13274|Netherlands Eredi...|\n",
      "|15722|     15722|  Poland Ekstraklasa|\n",
      "|17642|     17642|Portugal Liga ZON...|\n",
      "|19694|     19694|Scotland Premier ...|\n",
      "|21518|     21518|     Spain LIGA BBVA|\n",
      "|24558|     24558|Switzerland Super...|\n",
      "+-----+----------+--------------------+\n",
      "\n"
     ]
    }
   ],
   "source": [
    "df = sqlContext.createDataFrame(leagueRdd,schema=buildSchemaLeague())\n",
    "df.show()"
   ]
  },
  {
   "cell_type": "code",
   "execution_count": 26,
   "metadata": {},
   "outputs": [
    {
     "name": "stdout",
     "output_type": "stream",
     "text": [
      "+---+----------+----+\n",
      "| id|country_id|name|\n",
      "+---+----------+----+\n",
      "+---+----------+----+\n",
      "\n"
     ]
    }
   ],
   "source": [
    "sqlContext.sql(\"use fujitsu\")\n",
    "sqlContext.sql(\"create table IF NOT EXISTS league (id int,country_id int, name varchar(50) ) stored as parquet\")\n",
    "sqlContext.sql(\"select * from league\").show()"
   ]
  },
  {
   "cell_type": "code",
   "execution_count": 27,
   "metadata": {},
   "outputs": [],
   "source": [
    "df.write.insertInto('fujitsu.league')"
   ]
  },
  {
   "cell_type": "code",
   "execution_count": 28,
   "metadata": {},
   "outputs": [
    {
     "name": "stdout",
     "output_type": "stream",
     "text": [
      "+-----+----------+--------------------+\n",
      "|   id|country_id|                name|\n",
      "+-----+----------+--------------------+\n",
      "|    1|         1|Belgium Jupiler L...|\n",
      "| 1729|      1729|England Premier L...|\n",
      "| 4769|      4769|      France Ligue 1|\n",
      "| 7809|      7809|Germany 1. Bundes...|\n",
      "|10257|     10257|       Italy Serie A|\n",
      "|13274|     13274|Netherlands Eredi...|\n",
      "|15722|     15722|  Poland Ekstraklasa|\n",
      "|17642|     17642|Portugal Liga ZON...|\n",
      "|19694|     19694|Scotland Premier ...|\n",
      "|21518|     21518|     Spain LIGA BBVA|\n",
      "+-----+----------+--------------------+\n",
      "\n"
     ]
    }
   ],
   "source": [
    "sqlContext.sql( ''' select * from fujitsu.league limit 10 ''').show()"
   ]
  },
  {
   "cell_type": "code",
   "execution_count": null,
   "metadata": {
    "collapsed": true
   },
   "outputs": [],
   "source": []
  }
 ],
 "metadata": {
  "kernelspec": {
   "display_name": "Python 2",
   "language": "python",
   "name": "python2"
  },
  "language_info": {
   "codemirror_mode": {
    "name": "ipython",
    "version": 2
   },
   "file_extension": ".py",
   "mimetype": "text/x-python",
   "name": "python",
   "nbconvert_exporter": "python",
   "pygments_lexer": "ipython2",
   "version": "2.7.13"
  }
 },
 "nbformat": 4,
 "nbformat_minor": 2
}

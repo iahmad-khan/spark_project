{
 "cells": [
  {
   "cell_type": "code",
   "execution_count": 1,
   "metadata": {},
   "outputs": [
    {
     "name": "stdout",
     "output_type": "stream",
     "text": [
      " Lets Go \n"
     ]
    }
   ],
   "source": [
    "from pyspark import SparkContext,HiveContext\n",
    "from pyspark.sql.types import *\n",
    "from pyspark.sql.functions import *\n",
    "from pyspark.sql.window import Window\n",
    "\n",
    "print (\" Lets Go \")"
   ]
  },
  {
   "cell_type": "code",
   "execution_count": 3,
   "metadata": {},
   "outputs": [
    {
     "data": {
      "text/plain": [
       "[[u'1',\n",
       "  u'434',\n",
       "  u'9930',\n",
       "  u'2010-02-22 00:00:00',\n",
       "  u'60',\n",
       "  u'Balanced',\n",
       "  u'',\n",
       "  u'Little',\n",
       "  u'50',\n",
       "  u'Mixed',\n",
       "  u'Organised',\n",
       "  u'60',\n",
       "  u'Normal',\n",
       "  u'65',\n",
       "  u'Normal',\n",
       "  u'55',\n",
       "  u'Normal',\n",
       "  u'Organised',\n",
       "  u'50',\n",
       "  u'Medium',\n",
       "  u'55',\n",
       "  u'Press',\n",
       "  u'45',\n",
       "  u'Normal',\n",
       "  u'Cover']]"
      ]
     },
     "execution_count": 3,
     "metadata": {},
     "output_type": "execute_result"
    }
   ],
   "source": [
    "teamAttRdd = sc.textFile(\"/user/data/fujitsu/Team_Attributes.txt\").map(lambda x : x.split(\"\\t\")).filter(lambda x : x[0] !='id')\n",
    "teamAttRdd.take(1)"
   ]
  },
  {
   "cell_type": "code",
   "execution_count": 4,
   "metadata": {
    "collapsed": true
   },
   "outputs": [],
   "source": [
    "def buildSchemateamAtt():\n",
    "    print (\"Schema Creation is Started\")\n",
    "    schema = StructType(\n",
    "        [\n",
    "            StructField(\"id\",StringType(),True),\n",
    "            StructField(\"team_fifa_api_id\",StringType(),True),\n",
    "            StructField(\"team_api_id\",StringType(),True),\n",
    "            StructField(\"date\",StringType(),True),\n",
    "            StructField(\"buildUpPlaySpeed\",StringType(),True),\n",
    "            StructField(\"buildUpPlaySpeedClass\",StringType(),True),\n",
    "            StructField(\"buildUpPlayDribbling\",StringType(),True),\n",
    "            StructField(\"buildUpPlayDribblingClass\",StringType(),True),\n",
    "            StructField(\"buildUpPlayPassing\",StringType(),True),\n",
    "            StructField(\"buildUpPlayPassingClass\",StringType(),True),\n",
    "            StructField(\"buildUpPlayPositioningClass\",StringType(),True),\n",
    "            StructField(\"chanceCreationPassing\",StringType(),True),\n",
    "            StructField(\"chanceCreationPassingClass\",StringType(),True),\n",
    "            StructField(\"chanceCreationCrossing\",StringType(),True),\n",
    "            StructField(\"chanceCreationCrossingClass\",StringType(),True),\n",
    "            StructField(\"chanceCreationShooting\",StringType(),True),\n",
    "            StructField(\"chanceCreationShootingClass\",StringType(),True),\n",
    "            StructField(\"chanceCreationPositioningClass\",StringType(),True),\n",
    "            StructField(\"defencePressure\",StringType(),True),\n",
    "            StructField(\"defencePressureClass\",StringType(),True),\n",
    "            StructField(\"defenceAggression\",StringType(),True),\n",
    "            StructField(\"defenceAggressionClass\",StringType(),True),\n",
    "            StructField(\"defenceTeamWidth\",StringType(),True),\n",
    "            StructField(\"defenceTeamWidthClass\",StringType(),True),\n",
    "            StructField(\"defenceDefenderLineClass\",StringType(),True)           \n",
    "        ]\n",
    "    )\n",
    "    print (\"Schema Creation is Completed\")\n",
    "    return schema\n"
   ]
  },
  {
   "cell_type": "code",
   "execution_count": 5,
   "metadata": {},
   "outputs": [
    {
     "name": "stdout",
     "output_type": "stream",
     "text": [
      "Schema Creation is Started\n",
      "Schema Creation is Completed\n",
      "+---+----------------+-----------+-------------------+----------------+---------------------+--------------------+-------------------------+------------------+-----------------------+---------------------------+---------------------+--------------------------+----------------------+---------------------------+----------------------+---------------------------+------------------------------+---------------+--------------------+-----------------+----------------------+----------------+---------------------+------------------------+\n",
      "| id|team_fifa_api_id|team_api_id|               date|buildUpPlaySpeed|buildUpPlaySpeedClass|buildUpPlayDribbling|buildUpPlayDribblingClass|buildUpPlayPassing|buildUpPlayPassingClass|buildUpPlayPositioningClass|chanceCreationPassing|chanceCreationPassingClass|chanceCreationCrossing|chanceCreationCrossingClass|chanceCreationShooting|chanceCreationShootingClass|chanceCreationPositioningClass|defencePressure|defencePressureClass|defenceAggression|defenceAggressionClass|defenceTeamWidth|defenceTeamWidthClass|defenceDefenderLineClass|\n",
      "+---+----------------+-----------+-------------------+----------------+---------------------+--------------------+-------------------------+------------------+-----------------------+---------------------------+---------------------+--------------------------+----------------------+---------------------------+----------------------+---------------------------+------------------------------+---------------+--------------------+-----------------+----------------------+----------------+---------------------+------------------------+\n",
      "|  1|             434|       9930|2010-02-22 00:00:00|              60|             Balanced|                    |                   Little|                50|                  Mixed|                  Organised|                   60|                    Normal|                    65|                     Normal|                    55|                     Normal|                     Organised|             50|              Medium|               55|                 Press|              45|               Normal|                   Cover|\n",
      "|  2|             434|       9930|2014-09-19 00:00:00|              52|             Balanced|                  48|                   Normal|                56|                  Mixed|                  Organised|                   54|                    Normal|                    63|                     Normal|                    64|                     Normal|                     Organised|             47|              Medium|               44|                 Press|              54|               Normal|                   Cover|\n",
      "|  3|             434|       9930|2015-09-10 00:00:00|              47|             Balanced|                  41|                   Normal|                54|                  Mixed|                  Organised|                   54|                    Normal|                    63|                     Normal|                    64|                     Normal|                     Organised|             47|              Medium|               44|                 Press|              54|               Normal|                   Cover|\n",
      "|  4|              77|       8485|2010-02-22 00:00:00|              70|                 Fast|                    |                   Little|                70|                   Long|                  Organised|                   70|                     Risky|                    70|                       Lots|                    70|                       Lots|                     Organised|             60|              Medium|               70|                Double|              70|                 Wide|                   Cover|\n",
      "|  5|              77|       8485|2011-02-22 00:00:00|              47|             Balanced|                    |                   Little|                52|                  Mixed|                  Organised|                   53|                    Normal|                    48|                     Normal|                    52|                     Normal|                     Organised|             47|              Medium|               47|                 Press|              52|               Normal|                   Cover|\n",
      "|  6|              77|       8485|2012-02-22 00:00:00|              58|             Balanced|                    |                   Little|                62|                  Mixed|                  Organised|                   45|                    Normal|                    70|                       Lots|                    55|                     Normal|                     Organised|             40|              Medium|               40|                 Press|              60|               Normal|                   Cover|\n",
      "|  7|              77|       8485|2013-09-20 00:00:00|              62|             Balanced|                    |                   Little|                45|                  Mixed|                  Organised|                   40|                    Normal|                    50|                     Normal|                    55|                     Normal|                     Organised|             42|              Medium|               42|                 Press|              60|               Normal|                   Cover|\n",
      "|  8|              77|       8485|2014-09-19 00:00:00|              58|             Balanced|                  64|                   Normal|                62|                  Mixed|                  Organised|                   56|                    Normal|                    68|                       Lots|                    57|                     Normal|                     Organised|             41|              Medium|               42|                 Press|              60|               Normal|                   Cover|\n",
      "|  9|              77|       8485|2015-09-10 00:00:00|              59|             Balanced|                  64|                   Normal|                53|                  Mixed|                  Organised|                   51|                    Normal|                    72|                       Lots|                    63|                     Normal|                     Free Form|             49|              Medium|               45|                 Press|              63|               Normal|                   Cover|\n",
      "| 10|             614|       8576|2010-02-22 00:00:00|              60|             Balanced|                    |                   Little|                40|                  Mixed|                  Organised|                   45|                    Normal|                    35|                     Normal|                    55|                     Normal|                     Organised|             30|                Deep|               70|                Double|              30|               Narrow|            Offside Trap|\n",
      "| 11|             614|       8576|2011-02-22 00:00:00|              65|             Balanced|                    |                   Little|                45|                  Mixed|                  Organised|                   65|                    Normal|                    65|                     Normal|                    50|                     Normal|                     Organised|             45|              Medium|               45|                 Press|              50|               Normal|                   Cover|\n",
      "| 12|             614|       8576|2012-02-22 00:00:00|              59|             Balanced|                    |                   Little|                52|                  Mixed|                  Organised|                   48|                    Normal|                    34|                     Normal|                    52|                     Normal|                     Organised|             38|              Medium|               47|                 Press|              53|               Normal|                   Cover|\n",
      "| 13|             614|       8576|2013-09-20 00:00:00|              59|             Balanced|                    |                   Little|                52|                  Mixed|                  Organised|                   48|                    Normal|                    34|                     Normal|                    52|                     Normal|                     Organised|             38|              Medium|               47|                 Press|              53|               Normal|                   Cover|\n",
      "| 14|             614|       8576|2014-09-19 00:00:00|              59|             Balanced|                  57|                   Normal|                52|                  Mixed|                  Organised|                   48|                    Normal|                    38|                     Normal|                    52|                     Normal|                     Organised|             38|              Medium|               47|                 Press|              53|               Normal|                   Cover|\n",
      "| 15|             614|       8576|2015-09-10 00:00:00|              59|             Balanced|                  57|                   Normal|                52|                  Mixed|                  Organised|                   48|                    Normal|                    38|                     Normal|                    52|                     Normal|                     Organised|             38|              Medium|               47|                 Press|              53|               Normal|                   Cover|\n",
      "| 16|              47|       8564|2010-02-22 00:00:00|              45|             Balanced|                    |                   Little|                30|                  Short|                  Free Form|                   55|                    Normal|                    45|                     Normal|                    70|                       Lots|                     Free Form|             30|                Deep|               35|                 Press|              60|               Normal|            Offside Trap|\n",
      "| 17|              47|       8564|2011-02-22 00:00:00|              65|             Balanced|                    |                   Little|                50|                  Mixed|                  Organised|                   50|                    Normal|                    60|                     Normal|                    50|                     Normal|                     Free Form|             50|              Medium|               50|                 Press|              50|               Normal|            Offside Trap|\n",
      "| 18|              47|       8564|2012-02-22 00:00:00|              45|             Balanced|                    |                   Little|                50|                  Mixed|                  Organised|                   65|                    Normal|                    20|                     Little|                    50|                     Normal|                     Free Form|             45|              Medium|               45|                 Press|              50|               Normal|                   Cover|\n",
      "| 19|              47|       8564|2013-09-20 00:00:00|              48|             Balanced|                    |                   Little|                54|                  Mixed|                  Organised|                   51|                    Normal|                    53|                     Normal|                    64|                     Normal|                     Free Form|             48|              Medium|               49|                 Press|              53|               Normal|                   Cover|\n",
      "| 20|              47|       8564|2014-09-19 00:00:00|              48|             Balanced|                  70|                     Lots|                52|                  Mixed|                  Organised|                   66|                    Normal|                    36|                     Normal|                    75|                       Lots|                     Organised|             58|              Medium|               57|                 Press|              49|               Normal|                   Cover|\n",
      "+---+----------------+-----------+-------------------+----------------+---------------------+--------------------+-------------------------+------------------+-----------------------+---------------------------+---------------------+--------------------------+----------------------+---------------------------+----------------------+---------------------------+------------------------------+---------------+--------------------+-----------------+----------------------+----------------+---------------------+------------------------+\n",
      "only showing top 20 rows\n",
      "\n"
     ]
    }
   ],
   "source": [
    "df = sqlContext.createDataFrame(teamAttRdd,schema= buildSchemateamAtt())\n",
    "df.show()"
   ]
  },
  {
   "cell_type": "code",
   "execution_count": 13,
   "metadata": {},
   "outputs": [
    {
     "name": "stdout",
     "output_type": "stream",
     "text": [
      "+---+----------------+-----------+-------------------+----------------+---------------------+--------------------+-------------------------+------------------+-----------------------+---------------------------+---------------------+--------------------------+----------------------+---------------------------+----------------------+---------------------------+------------------------------+---------------+--------------------+-----------------+----------------------+----------------+---------------------+------------------------+\n",
      "| id|team_fifa_api_id|team_api_id|               date|buildupplayspeed|buildupplayspeedclass|buildupplaydribbling|buildupplaydribblingclass|buildupplaypassing|buildupplaypassingclass|buildupplaypositioningclass|chancecreationpassing|chancecreationpassingclass|chancecreationcrossing|chancecreationcrossingclass|chancecreationshooting|chancecreationshootingclass|chancecreationpositioningclass|defencepressure|defencepressureclass|defenceaggression|defenceaggressionclass|defenceteamwidth|defenceteamwidthclass|defencedefenderlineclass|\n",
      "+---+----------------+-----------+-------------------+----------------+---------------------+--------------------+-------------------------+------------------+-----------------------+---------------------------+---------------------+--------------------------+----------------------+---------------------------+----------------------+---------------------------+------------------------------+---------------+--------------------+-----------------+----------------------+----------------+---------------------+------------------------+\n",
      "|  1|             434|       9930|2010-02-22 00:00:00|              60|             Balanced|                null|                   Little|                50|                  Mixed|                  Organised|                   60|                    Normal|                    65|                     Normal|                    55|                     Normal|                     Organised|             50|              Medium|               55|                 Press|              45|               Normal|                   Cover|\n",
      "|  2|             434|       9930|2014-09-19 00:00:00|              52|             Balanced|                  48|                   Normal|                56|                  Mixed|                  Organised|                   54|                    Normal|                    63|                     Normal|                    64|                     Normal|                     Organised|             47|              Medium|               44|                 Press|              54|               Normal|                   Cover|\n",
      "|  3|             434|       9930|2015-09-10 00:00:00|              47|             Balanced|                  41|                   Normal|                54|                  Mixed|                  Organised|                   54|                    Normal|                    63|                     Normal|                    64|                     Normal|                     Organised|             47|              Medium|               44|                 Press|              54|               Normal|                   Cover|\n",
      "|  4|              77|       8485|2010-02-22 00:00:00|              70|                 Fast|                null|                   Little|                70|                   Long|                  Organised|                   70|                     Risky|                    70|                       Lots|                    70|                       Lots|                     Organised|             60|              Medium|               70|                Double|              70|                 Wide|                   Cover|\n",
      "|  5|              77|       8485|2011-02-22 00:00:00|              47|             Balanced|                null|                   Little|                52|                  Mixed|                  Organised|                   53|                    Normal|                    48|                     Normal|                    52|                     Normal|                     Organised|             47|              Medium|               47|                 Press|              52|               Normal|                   Cover|\n",
      "|  6|              77|       8485|2012-02-22 00:00:00|              58|             Balanced|                null|                   Little|                62|                  Mixed|                  Organised|                   45|                    Normal|                    70|                       Lots|                    55|                     Normal|                     Organised|             40|              Medium|               40|                 Press|              60|               Normal|                   Cover|\n",
      "|  7|              77|       8485|2013-09-20 00:00:00|              62|             Balanced|                null|                   Little|                45|                  Mixed|                  Organised|                   40|                    Normal|                    50|                     Normal|                    55|                     Normal|                     Organised|             42|              Medium|               42|                 Press|              60|               Normal|                   Cover|\n",
      "|  8|              77|       8485|2014-09-19 00:00:00|              58|             Balanced|                  64|                   Normal|                62|                  Mixed|                  Organised|                   56|                    Normal|                    68|                       Lots|                    57|                     Normal|                     Organised|             41|              Medium|               42|                 Press|              60|               Normal|                   Cover|\n",
      "|  9|              77|       8485|2015-09-10 00:00:00|              59|             Balanced|                  64|                   Normal|                53|                  Mixed|                  Organised|                   51|                    Normal|                    72|                       Lots|                    63|                     Normal|                     Free Form|             49|              Medium|               45|                 Press|              63|               Normal|                   Cover|\n",
      "| 10|             614|       8576|2010-02-22 00:00:00|              60|             Balanced|                null|                   Little|                40|                  Mixed|                  Organised|                   45|                    Normal|                    35|                     Normal|                    55|                     Normal|                     Organised|             30|                Deep|               70|                Double|              30|               Narrow|            Offside Trap|\n",
      "| 11|             614|       8576|2011-02-22 00:00:00|              65|             Balanced|                null|                   Little|                45|                  Mixed|                  Organised|                   65|                    Normal|                    65|                     Normal|                    50|                     Normal|                     Organised|             45|              Medium|               45|                 Press|              50|               Normal|                   Cover|\n",
      "| 12|             614|       8576|2012-02-22 00:00:00|              59|             Balanced|                null|                   Little|                52|                  Mixed|                  Organised|                   48|                    Normal|                    34|                     Normal|                    52|                     Normal|                     Organised|             38|              Medium|               47|                 Press|              53|               Normal|                   Cover|\n",
      "| 13|             614|       8576|2013-09-20 00:00:00|              59|             Balanced|                null|                   Little|                52|                  Mixed|                  Organised|                   48|                    Normal|                    34|                     Normal|                    52|                     Normal|                     Organised|             38|              Medium|               47|                 Press|              53|               Normal|                   Cover|\n",
      "| 14|             614|       8576|2014-09-19 00:00:00|              59|             Balanced|                  57|                   Normal|                52|                  Mixed|                  Organised|                   48|                    Normal|                    38|                     Normal|                    52|                     Normal|                     Organised|             38|              Medium|               47|                 Press|              53|               Normal|                   Cover|\n",
      "| 15|             614|       8576|2015-09-10 00:00:00|              59|             Balanced|                  57|                   Normal|                52|                  Mixed|                  Organised|                   48|                    Normal|                    38|                     Normal|                    52|                     Normal|                     Organised|             38|              Medium|               47|                 Press|              53|               Normal|                   Cover|\n",
      "| 16|              47|       8564|2010-02-22 00:00:00|              45|             Balanced|                null|                   Little|                30|                  Short|                  Free Form|                   55|                    Normal|                    45|                     Normal|                    70|                       Lots|                     Free Form|             30|                Deep|               35|                 Press|              60|               Normal|            Offside Trap|\n",
      "| 17|              47|       8564|2011-02-22 00:00:00|              65|             Balanced|                null|                   Little|                50|                  Mixed|                  Organised|                   50|                    Normal|                    60|                     Normal|                    50|                     Normal|                     Free Form|             50|              Medium|               50|                 Press|              50|               Normal|            Offside Trap|\n",
      "| 18|              47|       8564|2012-02-22 00:00:00|              45|             Balanced|                null|                   Little|                50|                  Mixed|                  Organised|                   65|                    Normal|                    20|                     Little|                    50|                     Normal|                     Free Form|             45|              Medium|               45|                 Press|              50|               Normal|                   Cover|\n",
      "| 19|              47|       8564|2013-09-20 00:00:00|              48|             Balanced|                null|                   Little|                54|                  Mixed|                  Organised|                   51|                    Normal|                    53|                     Normal|                    64|                     Normal|                     Free Form|             48|              Medium|               49|                 Press|              53|               Normal|                   Cover|\n",
      "| 20|              47|       8564|2014-09-19 00:00:00|              48|             Balanced|                  70|                     Lots|                52|                  Mixed|                  Organised|                   66|                    Normal|                    36|                     Normal|                    75|                       Lots|                     Organised|             58|              Medium|               57|                 Press|              49|               Normal|                   Cover|\n",
      "+---+----------------+-----------+-------------------+----------------+---------------------+--------------------+-------------------------+------------------+-----------------------+---------------------------+---------------------+--------------------------+----------------------+---------------------------+----------------------+---------------------------+------------------------------+---------------+--------------------+-----------------+----------------------+----------------+---------------------+------------------------+\n",
      "only showing top 20 rows\n",
      "\n"
     ]
    }
   ],
   "source": [
    "sqlContext.sql(\" use fujitsu\")\n",
    "sqlContext.sql(''' CREATE table IF NOT EXISTS teamatt (\n",
    "id int,\n",
    "team_fifa_api_id int,\n",
    "team_api_id int,    \n",
    "date  varchar(24)  ,\n",
    "buildUpPlaySpeed   int,   \n",
    "buildUpPlaySpeedClass  varchar(20),\n",
    "buildUpPlayDribbling  int,\n",
    "buildUpPlayDribblingClass    varchar(10),\n",
    "buildUpPlayPassing int,\n",
    "buildUpPlayPassingClass varchar(10),\n",
    "buildUpPlayPositioningClass    varchar(20),\n",
    "chanceCreationPassing int, \n",
    "chanceCreationPassingClass  varchar(20),    \n",
    "chanceCreationCrossing  int,\n",
    "chanceCreationCrossingClass  varchar(20),   \n",
    "chanceCreationShooting int, \n",
    "chanceCreationShootingClass  varchar(20),\n",
    "chanceCreationPositioningClass varchar(20), \n",
    "defencePressure int,\n",
    "defencePressureClass   varchar(20),\n",
    "defenceAggression     int,\n",
    "defenceAggressionClass  varchar(20), \n",
    "defenceTeamWidth    int,    \n",
    "defenceTeamWidthClass varchar(20),  \n",
    "defenceDefenderLineClass varchar(20)) stored as parquet ''')\n",
    "\n",
    "\n",
    "sqlContext.sql(''' select * from fujitsu.empatt ''' ).show()"
   ]
  },
  {
   "cell_type": "code",
   "execution_count": 14,
   "metadata": {
    "collapsed": true
   },
   "outputs": [],
   "source": [
    "df.write.insertInto('fujitsu.teamatt')"
   ]
  },
  {
   "cell_type": "code",
   "execution_count": 15,
   "metadata": {},
   "outputs": [
    {
     "name": "stdout",
     "output_type": "stream",
     "text": [
      "+---+----------------+-----------+-------------------+----------------+---------------------+--------------------+-------------------------+------------------+-----------------------+---------------------------+---------------------+--------------------------+----------------------+---------------------------+----------------------+---------------------------+------------------------------+---------------+--------------------+-----------------+----------------------+----------------+---------------------+------------------------+\n",
      "| id|team_fifa_api_id|team_api_id|               date|buildupplayspeed|buildupplayspeedclass|buildupplaydribbling|buildupplaydribblingclass|buildupplaypassing|buildupplaypassingclass|buildupplaypositioningclass|chancecreationpassing|chancecreationpassingclass|chancecreationcrossing|chancecreationcrossingclass|chancecreationshooting|chancecreationshootingclass|chancecreationpositioningclass|defencepressure|defencepressureclass|defenceaggression|defenceaggressionclass|defenceteamwidth|defenceteamwidthclass|defencedefenderlineclass|\n",
      "+---+----------------+-----------+-------------------+----------------+---------------------+--------------------+-------------------------+------------------+-----------------------+---------------------------+---------------------+--------------------------+----------------------+---------------------------+----------------------+---------------------------+------------------------------+---------------+--------------------+-----------------+----------------------+----------------+---------------------+------------------------+\n",
      "|  1|             434|       9930|2010-02-22 00:00:00|              60|             Balanced|                null|                   Little|                50|                  Mixed|                  Organised|                   60|                    Normal|                    65|                     Normal|                    55|                     Normal|                     Organised|             50|              Medium|               55|                 Press|              45|               Normal|                   Cover|\n",
      "|  2|             434|       9930|2014-09-19 00:00:00|              52|             Balanced|                  48|                   Normal|                56|                  Mixed|                  Organised|                   54|                    Normal|                    63|                     Normal|                    64|                     Normal|                     Organised|             47|              Medium|               44|                 Press|              54|               Normal|                   Cover|\n",
      "|  3|             434|       9930|2015-09-10 00:00:00|              47|             Balanced|                  41|                   Normal|                54|                  Mixed|                  Organised|                   54|                    Normal|                    63|                     Normal|                    64|                     Normal|                     Organised|             47|              Medium|               44|                 Press|              54|               Normal|                   Cover|\n",
      "|  4|              77|       8485|2010-02-22 00:00:00|              70|                 Fast|                null|                   Little|                70|                   Long|                  Organised|                   70|                     Risky|                    70|                       Lots|                    70|                       Lots|                     Organised|             60|              Medium|               70|                Double|              70|                 Wide|                   Cover|\n",
      "|  5|              77|       8485|2011-02-22 00:00:00|              47|             Balanced|                null|                   Little|                52|                  Mixed|                  Organised|                   53|                    Normal|                    48|                     Normal|                    52|                     Normal|                     Organised|             47|              Medium|               47|                 Press|              52|               Normal|                   Cover|\n",
      "+---+----------------+-----------+-------------------+----------------+---------------------+--------------------+-------------------------+------------------+-----------------------+---------------------------+---------------------+--------------------------+----------------------+---------------------------+----------------------+---------------------------+------------------------------+---------------+--------------------+-----------------+----------------------+----------------+---------------------+------------------------+\n",
      "\n"
     ]
    }
   ],
   "source": [
    "sqlContext.sql( ''' select * from fujitsu.teamatt limit 5 ''').show()"
   ]
  },
  {
   "cell_type": "code",
   "execution_count": null,
   "metadata": {
    "collapsed": true
   },
   "outputs": [],
   "source": []
  }
 ],
 "metadata": {
  "kernelspec": {
   "display_name": "Python 2",
   "language": "python",
   "name": "python2"
  },
  "language_info": {
   "codemirror_mode": {
    "name": "ipython",
    "version": 2
   },
   "file_extension": ".py",
   "mimetype": "text/x-python",
   "name": "python",
   "nbconvert_exporter": "python",
   "pygments_lexer": "ipython2",
   "version": "2.7.13"
  }
 },
 "nbformat": 4,
 "nbformat_minor": 2
}

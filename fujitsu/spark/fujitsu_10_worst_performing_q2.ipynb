{
 "cells": [
  {
   "cell_type": "code",
   "execution_count": 9,
   "metadata": {},
   "outputs": [
    {
     "name": "stdout",
     "output_type": "stream",
     "text": [
      "Lets start the question\n"
     ]
    }
   ],
   "source": [
    "from pyspark import SparkContext,HiveContext\n",
    "from pyspark.sql.types import *\n",
    "from pyspark.sql.functions import *\n",
    "from pyspark.sql.window import Window\n",
    "\n",
    "print (\"Lets start the question\")"
   ]
  },
  {
   "cell_type": "code",
   "execution_count": 13,
   "metadata": {},
   "outputs": [],
   "source": [
    "'''\n",
    "Q2:Find name, id etc. of 10 worst performing players based on overall_rating\n",
    "'''\n",
    "\n",
    "\n",
    "player_att_newDf = sqlContext.sql( ''' select player_api_id,avg_rating,row_number() over(order by avg_rating) as \n",
    "over_all_rnk from (\n",
    "select avg(overall_rating) as avg_rating,player_api_id from fujitsu.player_att_new group by player_api_id ) \n",
    "innerQuery ''').cache()\n",
    "\n",
    "playerDf =sqlContext.sql( ''' select * from fujitsu.player ''').cache()\n"
   ]
  },
  {
   "cell_type": "code",
   "execution_count": 16,
   "metadata": {},
   "outputs": [],
   "source": [
    "\n",
    "tenPlyaerDetlDf = player_att_newDf.where(col('over_all_rnk') <11).join(playerDf,'player_api_id').sort('over_all_rnk')"
   ]
  },
  {
   "cell_type": "code",
   "execution_count": 19,
   "metadata": {},
   "outputs": [
    {
     "name": "stdout",
     "output_type": "stream",
     "text": [
      "+-------------+------------------+------------+------------------+------------------+-------------------+--------+------+\n",
      "|player_api_id|        avg_rating|over_all_rnk|       player_name|player_fifa_api_id|           birthday|  height|weight|\n",
      "+-------------+------------------+------------+------------------+------------------+-------------------+--------+------+\n",
      "|        67396|              43.0|           1|   Frederic Schaub|            188125|1987-04-30 00:00:00|180.3400|   154|\n",
      "|       177471|             43.75|           2| Gianluca D'Angelo|            193409|1991-03-13 00:00:00|175.2600|   139|\n",
      "|       107416|              45.0|           3|     Badis Lebbihi|            183279|1990-03-14 00:00:00|180.3400|   176|\n",
      "|       112561|              45.2|           4|  Boubacar Mansaly|            188288|1988-02-04 00:00:00|175.2600|   150|\n",
      "|       127141|              45.5|           5|Jordan Kirkpatrick|            193658|1992-03-06 00:00:00|175.2600|   165|\n",
      "|       107283|              46.0|           6|       Liam Hughes|            186424|1988-09-11 00:00:00|177.8000|   150|\n",
      "|        22343|              46.0|           7|  Benjamin Fischer|            144071|1980-10-19 00:00:00|175.2600|   157|\n",
      "|       614951|              47.0|           8|       Robin Huser|            224819|1998-01-24 00:00:00|180.3400|   154|\n",
      "|        42149|              47.0|           9|   Florian Berisha|            179976|1990-01-18 00:00:00|170.1800|   143|\n",
      "|       177472|47.333333333333336|          10|         Enzo Ruiz|            193406|1988-08-31 00:00:00|182.8800|   172|\n",
      "+-------------+------------------+------------+------------------+------------------+-------------------+--------+------+\n",
      "\n"
     ]
    }
   ],
   "source": [
    "tenPlyaerDetlDf.drop('id').show()"
   ]
  },
  {
   "cell_type": "code",
   "execution_count": null,
   "metadata": {
    "collapsed": true
   },
   "outputs": [],
   "source": []
  }
 ],
 "metadata": {
  "kernelspec": {
   "display_name": "Python 2",
   "language": "python",
   "name": "python2"
  },
  "language_info": {
   "codemirror_mode": {
    "name": "ipython",
    "version": 2
   },
   "file_extension": ".py",
   "mimetype": "text/x-python",
   "name": "python",
   "nbconvert_exporter": "python",
   "pygments_lexer": "ipython2",
   "version": "2.7.13"
  }
 },
 "nbformat": 4,
 "nbformat_minor": 2
}

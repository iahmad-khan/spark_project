{
 "cells": [
  {
   "cell_type": "code",
   "execution_count": 6,
   "metadata": {},
   "outputs": [
    {
     "name": "stdout",
     "output_type": "stream",
     "text": [
      "Lets start\n"
     ]
    }
   ],
   "source": [
    "from pyspark import SparkContext,HiveContext\n",
    "from pyspark.sql.types import *\n",
    "from pyspark.sql.functions import *\n",
    "from datetime import datetime\n",
    "from pyspark.sql.window import Window\n",
    "\n",
    "print (\"Lets start\")"
   ]
  },
  {
   "cell_type": "code",
   "execution_count": 1,
   "metadata": {},
   "outputs": [
    {
     "data": {
      "text/plain": [
       "[[u'1', u'9987', u'673', u'KRC Genk', u'GEN'],\n",
       " [u'2', u'9993', u'675', u'Beerschot AC', u'BAC'],\n",
       " [u'3', u'10000', u'15005', u'SV Zulte-Waregem', u'ZUL'],\n",
       " [u'4', u'9994', u'2007', u'Sporting Lokeren', u'LOK'],\n",
       " [u'5', u'9984', u'1750', u'KSV Cercle Brugge', u'CEB']]"
      ]
     },
     "execution_count": 1,
     "metadata": {},
     "output_type": "execute_result"
    }
   ],
   "source": [
    "'''\n",
    "1.Reading the input file from hdfs\n",
    "2.Removing the header record\n",
    "\n",
    "'''\n",
    "teamRdd = sc.textFile(\"/user/data/fujitsu/Team.txt\").map(lambda x : x.split(\"\\t\")).filter(lambda x : x[0] != 'id')\n",
    "teamRdd.take(5)"
   ]
  },
  {
   "cell_type": "code",
   "execution_count": 7,
   "metadata": {
    "collapsed": true
   },
   "outputs": [],
   "source": [
    "def buildSchemaTeam():\n",
    "    print(\"Schema Creation Started\")\n",
    "    schema = StructType(\n",
    "        [\n",
    "            StructField(\"id\", StringType(),True),\n",
    "            StructField(\"team_api_id\" ,StringType(),True),\n",
    "            StructField(\"team_fifa_api_id\",StringType(),True),\n",
    "            StructField(\"team_long_name\", StringType(),True),\n",
    "            StructField(\"team_short_name\", StringType(),True)   \n",
    "            \n",
    "        ]\n",
    "    )\n",
    "    print(\"Schema Creation Completed\")\n",
    "    return schema"
   ]
  },
  {
   "cell_type": "code",
   "execution_count": 8,
   "metadata": {},
   "outputs": [
    {
     "name": "stdout",
     "output_type": "stream",
     "text": [
      "Schema Creation Started\n",
      "Schema Creation Completed\n",
      "+----+-----------+----------------+--------------------+---------------+\n",
      "|  id|team_api_id|team_fifa_api_id|      team_long_name|team_short_name|\n",
      "+----+-----------+----------------+--------------------+---------------+\n",
      "|   1|       9987|             673|            KRC Genk|            GEN|\n",
      "|   2|       9993|             675|        Beerschot AC|            BAC|\n",
      "|   3|      10000|           15005|    SV Zulte-Waregem|            ZUL|\n",
      "|   4|       9994|            2007|    Sporting Lokeren|            LOK|\n",
      "|   5|       9984|            1750|   KSV Cercle Brugge|            CEB|\n",
      "|   6|       8635|             229|      RSC Anderlecht|            AND|\n",
      "|   7|       9991|             674|            KAA Gent|            GEN|\n",
      "|   8|       9998|            1747|           RAEC Mons|            MON|\n",
      "|   9|       7947|                |       FCV Dender EH|            DEN|\n",
      "|  10|       9985|             232|   Standard de Li�ge|            STL|\n",
      "|  11|       8203|          110724|         KV Mechelen|            MEC|\n",
      "|  12|       8342|             231|      Club Brugge KV|            CLB|\n",
      "|  13|       9999|             546|       KSV Roeselare|            ROS|\n",
      "|  14|       8571|          100081|         KV Kortrijk|            KOR|\n",
      "|  15|       4049|                |              Tubize|            TUB|\n",
      "|  16|       9996|          111560|Royal Excel Mouscron|            MOU|\n",
      "|  17|      10001|             681|        KVC Westerlo|            WES|\n",
      "|  18|       9986|             670|  Sporting Charleroi|            CHA|\n",
      "| 614|       9997|             680|   Sint-Truidense VV|            STT|\n",
      "|1034|       9989|             239|           Lierse SK|            LIE|\n",
      "+----+-----------+----------------+--------------------+---------------+\n",
      "only showing top 20 rows\n",
      "\n"
     ]
    }
   ],
   "source": [
    "df = sqlContext.createDataFrame(teamRdd,schema =buildSchemaTeam() )\n",
    "df.show()"
   ]
  },
  {
   "cell_type": "code",
   "execution_count": 9,
   "metadata": {},
   "outputs": [
    {
     "name": "stdout",
     "output_type": "stream",
     "text": [
      "+---+-----------+----------------+--------------+---------------+\n",
      "| id|team_api_id|team_fifa_api_id|team_long_name|team_short_name|\n",
      "+---+-----------+----------------+--------------+---------------+\n",
      "+---+-----------+----------------+--------------+---------------+\n",
      "\n"
     ]
    }
   ],
   "source": [
    "sqlContext.sql(\"use fujitsu\")\n",
    "sqlContext.sql(''' create table IF NOT EXISTS team ( id int,team_api_id int,team_fifa_api_id int,team_long_name varchar(50),\n",
    "team_short_name varchar(3)) stored as parquet''')\n",
    "sqlContext.sql(\" select * from fujitsu.team \").show()"
   ]
  },
  {
   "cell_type": "code",
   "execution_count": 10,
   "metadata": {
    "collapsed": true
   },
   "outputs": [],
   "source": [
    "df.write.insertInto('fujitsu.team')"
   ]
  },
  {
   "cell_type": "code",
   "execution_count": 11,
   "metadata": {},
   "outputs": [
    {
     "name": "stdout",
     "output_type": "stream",
     "text": [
      "+---+-----------+----------------+-----------------+---------------+\n",
      "| id|team_api_id|team_fifa_api_id|   team_long_name|team_short_name|\n",
      "+---+-----------+----------------+-----------------+---------------+\n",
      "|  1|       9987|             673|         KRC Genk|            GEN|\n",
      "|  2|       9993|             675|     Beerschot AC|            BAC|\n",
      "|  3|      10000|           15005| SV Zulte-Waregem|            ZUL|\n",
      "|  4|       9994|            2007| Sporting Lokeren|            LOK|\n",
      "|  5|       9984|            1750|KSV Cercle Brugge|            CEB|\n",
      "|  6|       8635|             229|   RSC Anderlecht|            AND|\n",
      "|  7|       9991|             674|         KAA Gent|            GEN|\n",
      "|  8|       9998|            1747|        RAEC Mons|            MON|\n",
      "|  9|       7947|            null|    FCV Dender EH|            DEN|\n",
      "| 10|       9985|             232|Standard de Li�ge|            STL|\n",
      "+---+-----------+----------------+-----------------+---------------+\n",
      "\n"
     ]
    }
   ],
   "source": [
    "sqlContext.sql(\" select * from fujitsu.team limit 10 \").show()"
   ]
  },
  {
   "cell_type": "code",
   "execution_count": null,
   "metadata": {
    "collapsed": true
   },
   "outputs": [],
   "source": []
  }
 ],
 "metadata": {
  "kernelspec": {
   "display_name": "Python 2",
   "language": "python",
   "name": "python2"
  },
  "language_info": {
   "codemirror_mode": {
    "name": "ipython",
    "version": 2
   },
   "file_extension": ".py",
   "mimetype": "text/x-python",
   "name": "python",
   "nbconvert_exporter": "python",
   "pygments_lexer": "ipython2",
   "version": "2.7.13"
  }
 },
 "nbformat": 4,
 "nbformat_minor": 2
}
